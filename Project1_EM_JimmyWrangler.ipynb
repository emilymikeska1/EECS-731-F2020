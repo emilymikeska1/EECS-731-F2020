{
 "cells": [
  {
   "cell_type": "code",
   "execution_count": 222,
   "metadata": {
    "scrolled": true
   },
   "outputs": [],
   "source": [
    "import pandas as pd\n",
    "import matplotlib.pyplot as plt"
   ]
  },
  {
   "cell_type": "code",
   "execution_count": 179,
   "metadata": {
    "scrolled": true
   },
   "outputs": [],
   "source": [
    "frame1=pd.read_csv('2016-first-quarter-calls-for-service.csv')"
   ]
  },
  {
   "cell_type": "code",
   "execution_count": 180,
   "metadata": {
    "scrolled": true
   },
   "outputs": [],
   "source": [
    "frame2=pd.read_csv('2016-second-quarter-calls-for-service.csv')"
   ]
  },
  {
   "cell_type": "code",
   "execution_count": 181,
   "metadata": {
    "scrolled": true
   },
   "outputs": [],
   "source": [
    "frame3=pd.read_csv('2016-third-quarter-calls-for-service.csv')"
   ]
  },
  {
   "cell_type": "code",
   "execution_count": 182,
   "metadata": {
    "scrolled": true
   },
   "outputs": [],
   "source": [
    "frame4=pd.read_csv('2016-fourth-quarter-calls-for-service.csv')"
   ]
  },
  {
   "cell_type": "code",
   "execution_count": 183,
   "metadata": {
    "scrolled": true
   },
   "outputs": [],
   "source": [
    "frames=[frame1, frame2, frame3, frame4]\n",
    "all_calls=pd.concat(frames)"
   ]
  },
  {
   "cell_type": "code",
   "execution_count": 184,
   "metadata": {
    "collapsed": true
   },
   "outputs": [
    {
     "data": {
      "text/plain": [
       "<bound method NDFrame.head of       Case Number Date Reported Time Reported Month Reported  \\\n",
       "0       B16-12080     3/31/2016         23:58          March   \n",
       "1       B16-12079     3/31/2016         23:55          March   \n",
       "2       B16-12078     3/31/2016         23:39          March   \n",
       "3       B16-12077     3/31/2016         23:39          March   \n",
       "4       B16-12076     3/31/2016         23:35          March   \n",
       "...           ...           ...           ...            ...   \n",
       "12179   B16-39231     10/1/2016          0:27        October   \n",
       "12180   B16-39223     10/1/2016          0:24        October   \n",
       "12181   B16-39228     10/1/2016          0:24        October   \n",
       "12182   B16-39222     10/1/2016          0:18        October   \n",
       "12183   B16-39221     10/1/2016          0:07        October   \n",
       "\n",
       "      Day of Week Reported Nature of Call for Service District Agency  \\\n",
       "0                 Thursday                      NOISE    LB519    BPD   \n",
       "1                 Thursday               TRAFFIC STOP    LIU14    BPD   \n",
       "2                 Thursday               VEH THEFT NP    LB221    BPD   \n",
       "3                 Thursday               TRAFFIC STOP    LMS29    BPD   \n",
       "4                 Thursday                 WEAPONS IP    LB513    BPD   \n",
       "...                    ...                        ...      ...    ...   \n",
       "12179             Saturday                      NOISE    LB212    BPD   \n",
       "12180             Saturday             ACCIDENT PD IP    LB519    BPD   \n",
       "12181             Saturday                      NOISE    LB519    BPD   \n",
       "12182             Saturday            ACCIDENT LSA IP    LB102    BPD   \n",
       "12183             Saturday             ACCIDENT PD IP    LB101    BPD   \n",
       "\n",
       "       Report/No Report  \n",
       "0             No report  \n",
       "1             No report  \n",
       "2                Report  \n",
       "3                Report  \n",
       "4             No report  \n",
       "...                 ...  \n",
       "12179  NO REPORT NEEDED  \n",
       "12180     REPORT NEEDED  \n",
       "12181  NO REPORT NEEDED  \n",
       "12182     REPORT NEEDED  \n",
       "12183     REPORT NEEDED  \n",
       "\n",
       "[51316 rows x 9 columns]>"
      ]
     },
     "execution_count": 184,
     "metadata": {},
     "output_type": "execute_result"
    }
   ],
   "source": [
    "all_calls.head"
   ]
  },
  {
   "cell_type": "code",
   "execution_count": 185,
   "metadata": {
    "collapsed": true
   },
   "outputs": [
    {
     "data": {
      "text/plain": [
       "Index(['Case Number', 'Date Reported', 'Time Reported', 'Month Reported',\n",
       "       'Day of Week Reported', 'Nature of Call for Service', 'District',\n",
       "       'Agency', 'Report/No Report'],\n",
       "      dtype='object')"
      ]
     },
     "execution_count": 185,
     "metadata": {},
     "output_type": "execute_result"
    }
   ],
   "source": [
    "all_calls.columns"
   ]
  },
  {
   "cell_type": "code",
   "execution_count": 186,
   "metadata": {
    "scrolled": true
   },
   "outputs": [],
   "source": [
    "clean_all_calls=all_calls.drop(['Day of Week Reported'], axis=1)"
   ]
  },
  {
   "cell_type": "code",
   "execution_count": 187,
   "metadata": {
    "collapsed": true
   },
   "outputs": [
    {
     "data": {
      "text/plain": [
       "Case Number                   object\n",
       "Date Reported                 object\n",
       "Time Reported                 object\n",
       "Month Reported                object\n",
       "Nature of Call for Service    object\n",
       "District                      object\n",
       "Agency                        object\n",
       "Report/No Report              object\n",
       "dtype: object"
      ]
     },
     "execution_count": 187,
     "metadata": {},
     "output_type": "execute_result"
    }
   ],
   "source": [
    "clean_all_calls.dtypes"
   ]
  },
  {
   "cell_type": "code",
   "execution_count": 188,
   "metadata": {
    "collapsed": true
   },
   "outputs": [
    {
     "data": {
      "text/plain": [
       "0        3/31/2016 23:58\n",
       "1        3/31/2016 23:55\n",
       "2        3/31/2016 23:39\n",
       "3        3/31/2016 23:39\n",
       "4        3/31/2016 23:35\n",
       "              ...       \n",
       "12179     10/1/2016 0:27\n",
       "12180     10/1/2016 0:24\n",
       "12181     10/1/2016 0:24\n",
       "12182     10/1/2016 0:18\n",
       "12183     10/1/2016 0:07\n",
       "Length: 51316, dtype: object"
      ]
     },
     "execution_count": 188,
     "metadata": {},
     "output_type": "execute_result"
    }
   ],
   "source": [
    "clean_all_calls['Date Reported']+' '+clean_all_calls['Time Reported']"
   ]
  },
  {
   "cell_type": "code",
   "execution_count": 189,
   "metadata": {},
   "outputs": [],
   "source": [
    "clean_all_calls['Date Reported Time Reported']=pd.to_datetime(clean_all_calls['Date Reported']+' '+clean_all_calls['Time Reported'])"
   ]
  },
  {
   "cell_type": "code",
   "execution_count": 194,
   "metadata": {},
   "outputs": [],
   "source": [
    "clean_all_calls=clean_all_calls.drop(['Month Reported','Date Reported','Time Reported'], axis=1)"
   ]
  },
  {
   "cell_type": "code",
   "execution_count": 195,
   "metadata": {},
   "outputs": [],
   "source": [
    "clean_all_calls.fillna(0, inplace=True)"
   ]
  },
  {
   "cell_type": "code",
   "execution_count": 196,
   "metadata": {
    "collapsed": true
   },
   "outputs": [
    {
     "data": {
      "text/plain": [
       "Case Number                    False\n",
       "Nature of Call for Service     False\n",
       "District                       False\n",
       "Agency                         False\n",
       "Report/No Report               False\n",
       "Date Reported Time Reported    False\n",
       "dtype: bool"
      ]
     },
     "execution_count": 196,
     "metadata": {},
     "output_type": "execute_result"
    }
   ],
   "source": [
    "clean_all_calls.isnull().any()"
   ]
  },
  {
   "cell_type": "code",
   "execution_count": 197,
   "metadata": {
    "collapsed": true
   },
   "outputs": [
    {
     "data": {
      "text/plain": [
       "<bound method NDFrame.head of       Case Number Nature of Call for Service District Agency  \\\n",
       "0       B16-12080                      NOISE    LB519    BPD   \n",
       "1       B16-12079               TRAFFIC STOP    LIU14    BPD   \n",
       "2       B16-12078               VEH THEFT NP    LB221    BPD   \n",
       "3       B16-12077               TRAFFIC STOP    LMS29    BPD   \n",
       "4       B16-12076                 WEAPONS IP    LB513    BPD   \n",
       "...           ...                        ...      ...    ...   \n",
       "12179   B16-39231                      NOISE    LB212    BPD   \n",
       "12180   B16-39223             ACCIDENT PD IP    LB519    BPD   \n",
       "12181   B16-39228                      NOISE    LB519    BPD   \n",
       "12182   B16-39222            ACCIDENT LSA IP    LB102    BPD   \n",
       "12183   B16-39221             ACCIDENT PD IP    LB101    BPD   \n",
       "\n",
       "       Report/No Report Date Reported Time Reported  \n",
       "0             No report         2016-03-31 23:58:00  \n",
       "1             No report         2016-03-31 23:55:00  \n",
       "2                Report         2016-03-31 23:39:00  \n",
       "3                Report         2016-03-31 23:39:00  \n",
       "4             No report         2016-03-31 23:35:00  \n",
       "...                 ...                         ...  \n",
       "12179  NO REPORT NEEDED         2016-10-01 00:27:00  \n",
       "12180     REPORT NEEDED         2016-10-01 00:24:00  \n",
       "12181  NO REPORT NEEDED         2016-10-01 00:24:00  \n",
       "12182     REPORT NEEDED         2016-10-01 00:18:00  \n",
       "12183     REPORT NEEDED         2016-10-01 00:07:00  \n",
       "\n",
       "[51316 rows x 6 columns]>"
      ]
     },
     "execution_count": 197,
     "metadata": {},
     "output_type": "execute_result"
    }
   ],
   "source": [
    "clean_all_calls.head"
   ]
  },
  {
   "cell_type": "code",
   "execution_count": 226,
   "metadata": {},
   "outputs": [],
   "source": [
    "pd.get_dummies(clean_all_calls, columns=['Nature of Call for Service'])\n",
    "clean_all_calls['District']=clean_all_calls['District'].astype('category')\n",
    "clean_all_calls['Agency']=clean_all_calls['Agency'].astype('category')\n",
    "clean_all_calls['Report/No Report']=clean_all_calls['Report/No Report'].astype('category')"
   ]
  },
  {
   "cell_type": "code",
   "execution_count": 227,
   "metadata": {},
   "outputs": [
    {
     "data": {
      "text/plain": [
       "Case Number                            object\n",
       "Nature of Call for Service           category\n",
       "District                             category\n",
       "Agency                               category\n",
       "Report/No Report                     category\n",
       "Date Reported Time Reported    datetime64[ns]\n",
       "dtype: object"
      ]
     },
     "execution_count": 227,
     "metadata": {},
     "output_type": "execute_result"
    }
   ],
   "source": [
    "clean_all_calls.dtypes"
   ]
  },
  {
   "cell_type": "code",
   "execution_count": 159,
   "metadata": {
    "scrolled": true
   },
   "outputs": [],
   "source": [
    "only_crashes=pd.read_csv('crash-data-bloomington_2013-to-2018.csv', encoding='ISO-8859-1')"
   ]
  },
  {
   "cell_type": "code",
   "execution_count": 160,
   "metadata": {
    "collapsed": true
   },
   "outputs": [
    {
     "data": {
      "text/plain": [
       "<bound method NDFrame.head of       Agency         City        DATE   TIME  VEH#  Trailers  INJ  DEAD  DEER  \\\n",
       "0       MCSD  BLOOMINGTON   7/30/2014   1:16     1         0  0.0   0.0   0.0   \n",
       "1        BPD  BLOOMINGTON   5/11/2015   9:50     2         0  0.0   0.0   0.0   \n",
       "2        BPD  BLOOMINGTON    1/4/2016  14:06     2         0  0.0   0.0   0.0   \n",
       "3        BPD  BLOOMINGTON   6/14/2016  15:00     2         0  0.0   0.0   0.0   \n",
       "4        BPD  BLOOMINGTON    8/6/2013   0:00     1         0  1.0   0.0   0.0   \n",
       "...      ...          ...         ...    ...   ...       ...  ...   ...   ...   \n",
       "22406   MCSD  BLOOMINGTON  11/16/2018  17:58     2         0  0.0   0.0   0.0   \n",
       "22407   MCSD  BLOOMINGTON  12/12/2015   3:21     2         0  0.0   0.0   0.0   \n",
       "22408    BPD  BLOOMINGTON   11/6/2017   7:50     2         0  0.0   0.0   0.0   \n",
       "22409   MCSD  BLOOMINGTON   6/16/2016  19:28     1         0  1.0   0.0   0.0   \n",
       "22410   MCSD  BLOOMINGTON  12/19/2015   1:44     1         0  0.0   0.0   0.0   \n",
       "\n",
       "      House#  ... Weather Surf Con Median Rd Junction          Road Char  \\\n",
       "0        NaN  ...   CLEAR      DRY   NONE        None        CURVE/GRADE   \n",
       "1        203  ...  CLOUDY      DRY    NaN        None     STRAIGHT/LEVEL   \n",
       "2        709  ...   CLEAR      DRY    NaN        None  NON-ROADWAY CRASH   \n",
       "3       1007  ...    RAIN      WET    NaN        None     STRAIGHT/GRADE   \n",
       "4       1210  ...  CLOUDY      DRY   NONE        None     STRAIGHT/LEVEL   \n",
       "...      ...  ...     ...      ...    ...         ...                ...   \n",
       "22406         ...   CLEAR      DRY    NaN        NONE     STRAIGHT/LEVEL   \n",
       "22407   2212  ...   CLEAR      DRY    NaN        None  NON-ROADWAY CRASH   \n",
       "22408    831  ...     NaN      NaN    NaN        None     STRAIGHT/LEVEL   \n",
       "22409   7500  ...   CLEAR      DRY    NaN        None     STRAIGHT/GRADE   \n",
       "22410   7769  ...  CLOUDY      DRY    NaN        None     STRAIGHT/GRADE   \n",
       "\n",
       "       Surface      Primary Factor                Collision Type  \\\n",
       "0          ASP  RAN OFF ROAD RIGHT                  RAN OFF ROAD   \n",
       "1          ASP      OTHER (DRIVER)                   RIGHT ANGLE   \n",
       "2          ASP      UNSAFE BACKING                 BACKING CRASH   \n",
       "3       GRAVEL    IMPROPER TURNING                    RIGHT TURN   \n",
       "4          ASP      DRIVER ILLNESS                  RAN OFF ROAD   \n",
       "...        ...                 ...                           ...   \n",
       "22406      ASP      UNSAFE BACKING                 BACKING CRASH   \n",
       "22407      ASP      OTHER (DRIVER)  OTHER - EXPLAIN IN NARRATIVE   \n",
       "22408      ASP      UNSAFE BACKING                 BACKING CRASH   \n",
       "22409      ASP   DRIVER DISTRACTED                  RAN OFF ROAD   \n",
       "22410      ASP  RAN OFF ROAD RIGHT                  RAN OFF ROAD   \n",
       "\n",
       "                            Unique Id Traffic Control  \n",
       "0      1STAVENUESANDERSAVES FAIRFAXRD    LANE CONTROL  \n",
       "1                             W 1STST            NONE  \n",
       "2                              W1STST            NONE  \n",
       "3                               1STST            NONE  \n",
       "4                              E1STST            NONE  \n",
       "...                               ...             ...  \n",
       "22406                        SYOSTAVE            NONE  \n",
       "22407                        SYOSTAVE            NONE  \n",
       "22408                      EZENITHTER            NONE  \n",
       "22409        7500SZIKESRDSMITHVILLERD            NONE  \n",
       "22410       7769SZIKESRDSTATEROAD37RD            NONE  \n",
       "\n",
       "[22411 rows x 37 columns]>"
      ]
     },
     "execution_count": 160,
     "metadata": {},
     "output_type": "execute_result"
    }
   ],
   "source": [
    "only_crashes.head"
   ]
  },
  {
   "cell_type": "code",
   "execution_count": 161,
   "metadata": {
    "collapsed": true
   },
   "outputs": [
    {
     "data": {
      "text/plain": [
       "Agency              object\n",
       "City                object\n",
       "DATE                object\n",
       "TIME                object\n",
       "VEH#                 int64\n",
       "Trailers             int64\n",
       "INJ                float64\n",
       "DEAD               float64\n",
       "DEER               float64\n",
       "House#              object\n",
       "Roadway Id          object\n",
       "Intersect Rd.       object\n",
       "Interchange         object\n",
       "Ramp                object\n",
       "Property Type       object\n",
       "Feet From          float64\n",
       "Dir                 object\n",
       "Latitude           float64\n",
       "Longitude          float64\n",
       "Road Class          object\n",
       "H&R                 object\n",
       "Locality            object\n",
       "School              object\n",
       "Rumble Strips       object\n",
       "CN Zone             object\n",
       "CN Type             object\n",
       "Light               object\n",
       "Weather             object\n",
       "Surf Con            object\n",
       "Median              object\n",
       "Rd Junction         object\n",
       "Road Char           object\n",
       "Surface             object\n",
       "Primary Factor      object\n",
       "Collision Type      object\n",
       "Unique Id           object\n",
       "Traffic Control     object\n",
       "dtype: object"
      ]
     },
     "execution_count": 161,
     "metadata": {},
     "output_type": "execute_result"
    }
   ],
   "source": [
    "only_crashes.dtypes"
   ]
  },
  {
   "cell_type": "code",
   "execution_count": 162,
   "metadata": {
    "collapsed": true
   },
   "outputs": [
    {
     "data": {
      "text/plain": [
       "0          7/30/2014 1:16\n",
       "1          5/11/2015 9:50\n",
       "2          1/4/2016 14:06\n",
       "3         6/14/2016 15:00\n",
       "4           8/6/2013 0:00\n",
       "               ...       \n",
       "22406    11/16/2018 17:58\n",
       "22407     12/12/2015 3:21\n",
       "22408      11/6/2017 7:50\n",
       "22409     6/16/2016 19:28\n",
       "22410     12/19/2015 1:44\n",
       "Length: 22411, dtype: object"
      ]
     },
     "execution_count": 162,
     "metadata": {},
     "output_type": "execute_result"
    }
   ],
   "source": [
    "only_crashes['DATE']+' '+only_crashes['TIME']"
   ]
  },
  {
   "cell_type": "code",
   "execution_count": 163,
   "metadata": {},
   "outputs": [],
   "source": [
    "only_crashes['DATE TIME']=pd.to_datetime(only_crashes['DATE']+' '+only_crashes['TIME'])"
   ]
  },
  {
   "cell_type": "code",
   "execution_count": 164,
   "metadata": {
    "collapsed": true
   },
   "outputs": [
    {
     "data": {
      "text/plain": [
       "<bound method NDFrame.head of       Agency         City        DATE   TIME  VEH#  Trailers  INJ  DEAD  DEER  \\\n",
       "0       MCSD  BLOOMINGTON   7/30/2014   1:16     1         0  0.0   0.0   0.0   \n",
       "1        BPD  BLOOMINGTON   5/11/2015   9:50     2         0  0.0   0.0   0.0   \n",
       "2        BPD  BLOOMINGTON    1/4/2016  14:06     2         0  0.0   0.0   0.0   \n",
       "3        BPD  BLOOMINGTON   6/14/2016  15:00     2         0  0.0   0.0   0.0   \n",
       "4        BPD  BLOOMINGTON    8/6/2013   0:00     1         0  1.0   0.0   0.0   \n",
       "...      ...          ...         ...    ...   ...       ...  ...   ...   ...   \n",
       "22406   MCSD  BLOOMINGTON  11/16/2018  17:58     2         0  0.0   0.0   0.0   \n",
       "22407   MCSD  BLOOMINGTON  12/12/2015   3:21     2         0  0.0   0.0   0.0   \n",
       "22408    BPD  BLOOMINGTON   11/6/2017   7:50     2         0  0.0   0.0   0.0   \n",
       "22409   MCSD  BLOOMINGTON   6/16/2016  19:28     1         0  1.0   0.0   0.0   \n",
       "22410   MCSD  BLOOMINGTON  12/19/2015   1:44     1         0  0.0   0.0   0.0   \n",
       "\n",
       "      House#  ... Surf Con Median Rd Junction          Road Char Surface  \\\n",
       "0        NaN  ...      DRY   NONE        None        CURVE/GRADE     ASP   \n",
       "1        203  ...      DRY    NaN        None     STRAIGHT/LEVEL     ASP   \n",
       "2        709  ...      DRY    NaN        None  NON-ROADWAY CRASH     ASP   \n",
       "3       1007  ...      WET    NaN        None     STRAIGHT/GRADE  GRAVEL   \n",
       "4       1210  ...      DRY   NONE        None     STRAIGHT/LEVEL     ASP   \n",
       "...      ...  ...      ...    ...         ...                ...     ...   \n",
       "22406         ...      DRY    NaN        NONE     STRAIGHT/LEVEL     ASP   \n",
       "22407   2212  ...      DRY    NaN        None  NON-ROADWAY CRASH     ASP   \n",
       "22408    831  ...      NaN    NaN        None     STRAIGHT/LEVEL     ASP   \n",
       "22409   7500  ...      DRY    NaN        None     STRAIGHT/GRADE     ASP   \n",
       "22410   7769  ...      DRY    NaN        None     STRAIGHT/GRADE     ASP   \n",
       "\n",
       "           Primary Factor                Collision Type  \\\n",
       "0      RAN OFF ROAD RIGHT                  RAN OFF ROAD   \n",
       "1          OTHER (DRIVER)                   RIGHT ANGLE   \n",
       "2          UNSAFE BACKING                 BACKING CRASH   \n",
       "3        IMPROPER TURNING                    RIGHT TURN   \n",
       "4          DRIVER ILLNESS                  RAN OFF ROAD   \n",
       "...                   ...                           ...   \n",
       "22406      UNSAFE BACKING                 BACKING CRASH   \n",
       "22407      OTHER (DRIVER)  OTHER - EXPLAIN IN NARRATIVE   \n",
       "22408      UNSAFE BACKING                 BACKING CRASH   \n",
       "22409   DRIVER DISTRACTED                  RAN OFF ROAD   \n",
       "22410  RAN OFF ROAD RIGHT                  RAN OFF ROAD   \n",
       "\n",
       "                            Unique Id  Traffic Control           DATE TIME  \n",
       "0      1STAVENUESANDERSAVES FAIRFAXRD     LANE CONTROL 2014-07-30 01:16:00  \n",
       "1                             W 1STST             NONE 2015-05-11 09:50:00  \n",
       "2                              W1STST             NONE 2016-01-04 14:06:00  \n",
       "3                               1STST             NONE 2016-06-14 15:00:00  \n",
       "4                              E1STST             NONE 2013-08-06 00:00:00  \n",
       "...                               ...              ...                 ...  \n",
       "22406                        SYOSTAVE             NONE 2018-11-16 17:58:00  \n",
       "22407                        SYOSTAVE             NONE 2015-12-12 03:21:00  \n",
       "22408                      EZENITHTER             NONE 2017-11-06 07:50:00  \n",
       "22409        7500SZIKESRDSMITHVILLERD             NONE 2016-06-16 19:28:00  \n",
       "22410       7769SZIKESRDSTATEROAD37RD             NONE 2015-12-19 01:44:00  \n",
       "\n",
       "[22411 rows x 38 columns]>"
      ]
     },
     "execution_count": 164,
     "metadata": {},
     "output_type": "execute_result"
    }
   ],
   "source": [
    "only_crashes.head"
   ]
  },
  {
   "cell_type": "code",
   "execution_count": 174,
   "metadata": {},
   "outputs": [],
   "source": [
    "only_crashes.fillna(0, inplace=True)"
   ]
  },
  {
   "cell_type": "code",
   "execution_count": 176,
   "metadata": {
    "collapsed": true
   },
   "outputs": [
    {
     "data": {
      "text/plain": [
       "Agency             False\n",
       "City               False\n",
       "DATE               False\n",
       "TIME               False\n",
       "VEH#               False\n",
       "Trailers           False\n",
       "INJ                False\n",
       "DEAD               False\n",
       "DEER               False\n",
       "House#             False\n",
       "Roadway Id         False\n",
       "Intersect Rd.      False\n",
       "Interchange        False\n",
       "Ramp               False\n",
       "Property Type      False\n",
       "Feet From          False\n",
       "Dir                False\n",
       "Latitude           False\n",
       "Longitude          False\n",
       "Road Class         False\n",
       "H&R                False\n",
       "Locality           False\n",
       "School             False\n",
       "Rumble Strips      False\n",
       "CN Zone            False\n",
       "CN Type            False\n",
       "Light              False\n",
       "Weather            False\n",
       "Surf Con           False\n",
       "Median             False\n",
       "Rd Junction        False\n",
       "Road Char          False\n",
       "Surface            False\n",
       "Primary Factor     False\n",
       "Collision Type     False\n",
       "Unique Id          False\n",
       "Traffic Control    False\n",
       "DATE TIME          False\n",
       "dtype: bool"
      ]
     },
     "execution_count": 176,
     "metadata": {},
     "output_type": "execute_result"
    }
   ],
   "source": [
    "only_crashes.isnull().any()"
   ]
  },
  {
   "cell_type": "code",
   "execution_count": 207,
   "metadata": {},
   "outputs": [],
   "source": [
    "clean_only_crashes=only_crashes.drop(['DATE','TIME'], axis=1)"
   ]
  },
  {
   "cell_type": "code",
   "execution_count": 208,
   "metadata": {
    "collapsed": true
   },
   "outputs": [
    {
     "data": {
      "text/plain": [
       "Index(['Agency', 'City', 'VEH#', 'Trailers', 'INJ', 'DEAD', 'DEER', 'House#',\n",
       "       'Roadway Id', 'Intersect Rd.', 'Interchange', 'Ramp', 'Property Type',\n",
       "       'Feet From', 'Dir', 'Latitude', 'Longitude', 'Road Class', 'H&R',\n",
       "       'Locality', 'School ', 'Rumble Strips', 'CN Zone', 'CN Type', 'Light',\n",
       "       'Weather', 'Surf Con', 'Median', 'Rd Junction', 'Road Char', 'Surface',\n",
       "       'Primary Factor', 'Collision Type', 'Unique Id', 'Traffic Control',\n",
       "       'DATE TIME'],\n",
       "      dtype='object')"
      ]
     },
     "execution_count": 208,
     "metadata": {},
     "output_type": "execute_result"
    }
   ],
   "source": [
    "clean_only_crashes.columns"
   ]
  },
  {
   "cell_type": "code",
   "execution_count": 231,
   "metadata": {},
   "outputs": [],
   "source": [
    "clean_only_crashes['Agency']=clean_only_crashes['Agency'].astype('category')\n",
    "clean_only_crashes['City']=clean_only_crashes['City'].astype('category')\n",
    "clean_only_crashes['Property Type']=clean_only_crashes['Property Type'].astype('category')\n",
    "clean_only_crashes['Dir']=clean_only_crashes['Dir'].astype('category')\n",
    "clean_only_crashes['Road Class']=clean_only_crashes['Road Class'].astype('category')\n",
    "clean_only_crashes['H&R']=clean_only_crashes['H&R'].astype('category')\n",
    "clean_only_crashes['Locality']=clean_only_crashes['Locality'].astype('category')\n",
    "clean_only_crashes['School ']=clean_only_crashes['School '].astype('category')\n",
    "clean_only_crashes['Rumble Strips']=clean_only_crashes['Rumble Strips'].astype('category')\n",
    "clean_only_crashes['CN Zone']=clean_only_crashes['CN Zone'].astype('category')\n",
    "clean_only_crashes['CN Type']=clean_only_crashes['CN Type'].astype('category')\n",
    "clean_only_crashes['Light']=clean_only_crashes['Light'].astype('category')\n",
    "clean_only_crashes['Weather']=clean_only_crashes['Weather'].astype('category')\n",
    "clean_only_crashes['Surf Con']=clean_only_crashes['Surf Con'].astype('category')\n",
    "clean_only_crashes['Median']=clean_only_crashes['Median'].astype('category')\n",
    "clean_only_crashes['Rd Junction']=clean_only_crashes['Rd Junction'].astype('category')\n",
    "clean_only_crashes['Road Char']=clean_only_crashes['Road Char'].astype('category')\n",
    "clean_only_crashes['Surface']=clean_only_crashes['Surface'].astype('category')\n",
    "clean_only_crashes['Primary Factor']=clean_only_crashes['Primary Factor'].astype('category')\n",
    "clean_only_crashes['Collision Type']=clean_only_crashes['Collision Type'].astype('category')\n",
    "clean_only_crashes['Traffic Control']=clean_only_crashes['Traffic Control'].astype('category')"
   ]
  },
  {
   "cell_type": "code",
   "execution_count": 232,
   "metadata": {},
   "outputs": [
    {
     "data": {
      "text/plain": [
       "Agency                   category\n",
       "City                     category\n",
       "VEH#                        int64\n",
       "Trailers                    int64\n",
       "INJ                       float64\n",
       "DEAD                      float64\n",
       "DEER                      float64\n",
       "House#                     object\n",
       "Roadway Id                 object\n",
       "Intersect Rd.              object\n",
       "Interchange                object\n",
       "Ramp                       object\n",
       "Property Type            category\n",
       "Feet From                 float64\n",
       "Dir                      category\n",
       "Latitude                  float64\n",
       "Longitude                 float64\n",
       "Road Class               category\n",
       "H&R                      category\n",
       "Locality                 category\n",
       "School                   category\n",
       "Rumble Strips            category\n",
       "CN Zone                  category\n",
       "CN Type                  category\n",
       "Light                    category\n",
       "Weather                  category\n",
       "Surf Con                 category\n",
       "Median                   category\n",
       "Rd Junction              category\n",
       "Road Char                category\n",
       "Surface                  category\n",
       "Primary Factor           category\n",
       "Collision Type           category\n",
       "Unique Id                  object\n",
       "Traffic Control          category\n",
       "DATE TIME          datetime64[ns]\n",
       "dtype: object"
      ]
     },
     "execution_count": 232,
     "metadata": {},
     "output_type": "execute_result"
    }
   ],
   "source": [
    "clean_only_crashes.dtypes"
   ]
  },
  {
   "cell_type": "code",
   "execution_count": 235,
   "metadata": {},
   "outputs": [],
   "source": [
    "clean_only_crashes['Year']=pd.DatetimeIndex(clean_only_crashes['DATE TIME']).year"
   ]
  },
  {
   "cell_type": "code",
   "execution_count": 253,
   "metadata": {
    "scrolled": true
   },
   "outputs": [
    {
     "data": {
      "text/plain": [
       "Index(['Agency', 'City', 'VEH#', 'Trailers', 'INJ', 'DEAD', 'DEER', 'House#',\n",
       "       'Roadway Id', 'Intersect Rd.', 'Interchange', 'Ramp', 'Property Type',\n",
       "       'Feet From', 'Dir', 'Latitude', 'Longitude', 'Road Class', 'H&R',\n",
       "       'Locality', 'School ', 'Rumble Strips', 'CN Zone', 'CN Type', 'Light',\n",
       "       'Weather', 'Surf Con', 'Median', 'Rd Junction', 'Road Char', 'Surface',\n",
       "       'Primary Factor', 'Collision Type', 'Unique Id', 'Traffic Control',\n",
       "       'DATE TIME', 'Year'],\n",
       "      dtype='object')"
      ]
     },
     "execution_count": 253,
     "metadata": {},
     "output_type": "execute_result"
    }
   ],
   "source": [
    "clean_only_crashes.columns"
   ]
  },
  {
   "cell_type": "code",
   "execution_count": 254,
   "metadata": {},
   "outputs": [
    {
     "data": {
      "text/html": [
       "<div>\n",
       "<style scoped>\n",
       "    .dataframe tbody tr th:only-of-type {\n",
       "        vertical-align: middle;\n",
       "    }\n",
       "\n",
       "    .dataframe tbody tr th {\n",
       "        vertical-align: top;\n",
       "    }\n",
       "\n",
       "    .dataframe thead th {\n",
       "        text-align: right;\n",
       "    }\n",
       "</style>\n",
       "<table border=\"1\" class=\"dataframe\">\n",
       "  <thead>\n",
       "    <tr style=\"text-align: right;\">\n",
       "      <th></th>\n",
       "      <th>Agency</th>\n",
       "      <th>City</th>\n",
       "      <th>VEH#</th>\n",
       "      <th>Trailers</th>\n",
       "      <th>INJ</th>\n",
       "      <th>DEAD</th>\n",
       "      <th>DEER</th>\n",
       "      <th>House#</th>\n",
       "      <th>Roadway Id</th>\n",
       "      <th>Intersect Rd.</th>\n",
       "      <th>...</th>\n",
       "      <th>Median</th>\n",
       "      <th>Rd Junction</th>\n",
       "      <th>Road Char</th>\n",
       "      <th>Surface</th>\n",
       "      <th>Primary Factor</th>\n",
       "      <th>Collision Type</th>\n",
       "      <th>Unique Id</th>\n",
       "      <th>Traffic Control</th>\n",
       "      <th>DATE TIME</th>\n",
       "      <th>Year</th>\n",
       "    </tr>\n",
       "  </thead>\n",
       "  <tbody>\n",
       "    <tr>\n",
       "      <th>2</th>\n",
       "      <td>BPD</td>\n",
       "      <td>BLOOMINGTON</td>\n",
       "      <td>2</td>\n",
       "      <td>0</td>\n",
       "      <td>0.0</td>\n",
       "      <td>0.0</td>\n",
       "      <td>0.0</td>\n",
       "      <td>709</td>\n",
       "      <td>1ST ST</td>\n",
       "      <td>0</td>\n",
       "      <td>...</td>\n",
       "      <td>0</td>\n",
       "      <td>None</td>\n",
       "      <td>NON-ROADWAY CRASH</td>\n",
       "      <td>ASP</td>\n",
       "      <td>UNSAFE BACKING</td>\n",
       "      <td>BACKING CRASH</td>\n",
       "      <td>W1STST</td>\n",
       "      <td>NONE</td>\n",
       "      <td>2016-01-04 14:06:00</td>\n",
       "      <td>2016</td>\n",
       "    </tr>\n",
       "    <tr>\n",
       "      <th>14706</th>\n",
       "      <td>MCSD</td>\n",
       "      <td>BLOOMINGTON</td>\n",
       "      <td>2</td>\n",
       "      <td>0</td>\n",
       "      <td>1.0</td>\n",
       "      <td>0.0</td>\n",
       "      <td>0.0</td>\n",
       "      <td>0</td>\n",
       "      <td>SR37</td>\n",
       "      <td>CROSSOVER</td>\n",
       "      <td>...</td>\n",
       "      <td>0</td>\n",
       "      <td>None</td>\n",
       "      <td>STRAIGHT/LEVEL</td>\n",
       "      <td>ASP</td>\n",
       "      <td>FOLLOWING TOO CLOSELY</td>\n",
       "      <td>REAR END</td>\n",
       "      <td>NCROSSOVERRDSR37N</td>\n",
       "      <td>LANE CONTROL</td>\n",
       "      <td>2016-10-15 19:39:00</td>\n",
       "      <td>2016</td>\n",
       "    </tr>\n",
       "    <tr>\n",
       "      <th>14709</th>\n",
       "      <td>MCSD</td>\n",
       "      <td>BLOOMINGTON</td>\n",
       "      <td>1</td>\n",
       "      <td>0</td>\n",
       "      <td>0.0</td>\n",
       "      <td>0.0</td>\n",
       "      <td>1.0</td>\n",
       "      <td>0</td>\n",
       "      <td>SR37</td>\n",
       "      <td>CROSSOVER</td>\n",
       "      <td>...</td>\n",
       "      <td>BARRIER WALL</td>\n",
       "      <td>None</td>\n",
       "      <td>STRAIGHT/LEVEL</td>\n",
       "      <td>ASP</td>\n",
       "      <td>ANIMAL/OBJECT IN ROADWAY</td>\n",
       "      <td>HEAD ON BETWEEN TWO MOTOR VEHICLES</td>\n",
       "      <td>NCROSSOVERRDSR37N</td>\n",
       "      <td>NONE</td>\n",
       "      <td>2016-11-12 00:17:00</td>\n",
       "      <td>2016</td>\n",
       "    </tr>\n",
       "    <tr>\n",
       "      <th>14713</th>\n",
       "      <td>MCSD</td>\n",
       "      <td>BLOOMINGTON</td>\n",
       "      <td>1</td>\n",
       "      <td>0</td>\n",
       "      <td>0.0</td>\n",
       "      <td>0.0</td>\n",
       "      <td>0.0</td>\n",
       "      <td>0</td>\n",
       "      <td>SR37</td>\n",
       "      <td>DELLSVILLE</td>\n",
       "      <td>...</td>\n",
       "      <td>0</td>\n",
       "      <td>None</td>\n",
       "      <td>CURVE/LEVEL</td>\n",
       "      <td>ASP</td>\n",
       "      <td>OVERCORRECTING/OVERSTEERING</td>\n",
       "      <td>RAN OFF ROAD</td>\n",
       "      <td>DELLSVILLERDSR37S</td>\n",
       "      <td>NONE</td>\n",
       "      <td>2016-02-22 23:25:00</td>\n",
       "      <td>2016</td>\n",
       "    </tr>\n",
       "    <tr>\n",
       "      <th>14732</th>\n",
       "      <td>MCSD</td>\n",
       "      <td>BLOOMINGTON</td>\n",
       "      <td>1</td>\n",
       "      <td>0</td>\n",
       "      <td>1.0</td>\n",
       "      <td>0.0</td>\n",
       "      <td>1.0</td>\n",
       "      <td>0</td>\n",
       "      <td>SR37</td>\n",
       "      <td>DILLMAN RD</td>\n",
       "      <td>...</td>\n",
       "      <td>NONE</td>\n",
       "      <td>None</td>\n",
       "      <td>STRAIGHT/LEVEL</td>\n",
       "      <td>ASP</td>\n",
       "      <td>ANIMAL/OBJECT IN ROADWAY</td>\n",
       "      <td>HEAD ON BETWEEN TWO MOTOR VEHICLES</td>\n",
       "      <td>SR37SWDILLMANRD</td>\n",
       "      <td>NONE</td>\n",
       "      <td>2016-07-17 02:58:00</td>\n",
       "      <td>2016</td>\n",
       "    </tr>\n",
       "    <tr>\n",
       "      <th>...</th>\n",
       "      <td>...</td>\n",
       "      <td>...</td>\n",
       "      <td>...</td>\n",
       "      <td>...</td>\n",
       "      <td>...</td>\n",
       "      <td>...</td>\n",
       "      <td>...</td>\n",
       "      <td>...</td>\n",
       "      <td>...</td>\n",
       "      <td>...</td>\n",
       "      <td>...</td>\n",
       "      <td>...</td>\n",
       "      <td>...</td>\n",
       "      <td>...</td>\n",
       "      <td>...</td>\n",
       "      <td>...</td>\n",
       "      <td>...</td>\n",
       "      <td>...</td>\n",
       "      <td>...</td>\n",
       "      <td>...</td>\n",
       "      <td>...</td>\n",
       "    </tr>\n",
       "    <tr>\n",
       "      <th>7376</th>\n",
       "      <td>BPD</td>\n",
       "      <td>BLOOMINGTON</td>\n",
       "      <td>2</td>\n",
       "      <td>0</td>\n",
       "      <td>0.0</td>\n",
       "      <td>0.0</td>\n",
       "      <td>0.0</td>\n",
       "      <td>0</td>\n",
       "      <td>COLLEGE AVE</td>\n",
       "      <td>KIRKWOOD AVE</td>\n",
       "      <td>...</td>\n",
       "      <td>0</td>\n",
       "      <td>None</td>\n",
       "      <td>STRAIGHT/LEVEL</td>\n",
       "      <td>ASP</td>\n",
       "      <td>FOLLOWING TOO CLOSELY</td>\n",
       "      <td>REAR END</td>\n",
       "      <td>COLLEGEAVEKIRKWOODAVE</td>\n",
       "      <td>LANE CONTROL</td>\n",
       "      <td>2016-07-01 13:00:00</td>\n",
       "      <td>2016</td>\n",
       "    </tr>\n",
       "    <tr>\n",
       "      <th>7377</th>\n",
       "      <td>BPD</td>\n",
       "      <td>BLOOMINGTON</td>\n",
       "      <td>2</td>\n",
       "      <td>0</td>\n",
       "      <td>0.0</td>\n",
       "      <td>0.0</td>\n",
       "      <td>0.0</td>\n",
       "      <td>0</td>\n",
       "      <td>COLLEGE AVE</td>\n",
       "      <td>KIRKWOOD AVE</td>\n",
       "      <td>...</td>\n",
       "      <td>0</td>\n",
       "      <td>None</td>\n",
       "      <td>STRAIGHT/LEVEL</td>\n",
       "      <td>ASP</td>\n",
       "      <td>UNSAFE BACKING</td>\n",
       "      <td>BACKING CRASH</td>\n",
       "      <td>COLLEGEAVEKIRKWOODAVE</td>\n",
       "      <td>LANE CONTROL</td>\n",
       "      <td>2016-10-21 13:09:00</td>\n",
       "      <td>2016</td>\n",
       "    </tr>\n",
       "    <tr>\n",
       "      <th>7380</th>\n",
       "      <td>BPD</td>\n",
       "      <td>BLOOMINGTON</td>\n",
       "      <td>3</td>\n",
       "      <td>0</td>\n",
       "      <td>0.0</td>\n",
       "      <td>0.0</td>\n",
       "      <td>0.0</td>\n",
       "      <td>0</td>\n",
       "      <td>COLLEGE AVE</td>\n",
       "      <td>KIRKWOOD AVE</td>\n",
       "      <td>...</td>\n",
       "      <td>0</td>\n",
       "      <td>4-Way</td>\n",
       "      <td>STRAIGHT/LEVEL</td>\n",
       "      <td>ASP</td>\n",
       "      <td>FAILURE TO YIELD RIGHT OF WAY</td>\n",
       "      <td>SAME DIRECTION SIDESWIPE</td>\n",
       "      <td>COLLEGEAVEKIRKWOODAVE</td>\n",
       "      <td>TRAFFIC CONTROL SIGNAL</td>\n",
       "      <td>2016-02-27 19:17:00</td>\n",
       "      <td>2016</td>\n",
       "    </tr>\n",
       "    <tr>\n",
       "      <th>7334</th>\n",
       "      <td>BPD</td>\n",
       "      <td>BLOOMINGTON</td>\n",
       "      <td>1</td>\n",
       "      <td>0</td>\n",
       "      <td>1.0</td>\n",
       "      <td>0.0</td>\n",
       "      <td>0.0</td>\n",
       "      <td>1000</td>\n",
       "      <td>COLLEGE AVE</td>\n",
       "      <td>0</td>\n",
       "      <td>...</td>\n",
       "      <td>0</td>\n",
       "      <td>None</td>\n",
       "      <td>STRAIGHT/GRADE</td>\n",
       "      <td>ASP</td>\n",
       "      <td>RAN OFF ROAD RIGHT</td>\n",
       "      <td>RAN OFF ROAD</td>\n",
       "      <td>NCOLLEGEAVE</td>\n",
       "      <td>NONE</td>\n",
       "      <td>2016-12-11 23:59:00</td>\n",
       "      <td>2016</td>\n",
       "    </tr>\n",
       "    <tr>\n",
       "      <th>22409</th>\n",
       "      <td>MCSD</td>\n",
       "      <td>BLOOMINGTON</td>\n",
       "      <td>1</td>\n",
       "      <td>0</td>\n",
       "      <td>1.0</td>\n",
       "      <td>0.0</td>\n",
       "      <td>0.0</td>\n",
       "      <td>7500</td>\n",
       "      <td>ZIKES RD</td>\n",
       "      <td>SMITHVILLE RD</td>\n",
       "      <td>...</td>\n",
       "      <td>0</td>\n",
       "      <td>None</td>\n",
       "      <td>STRAIGHT/GRADE</td>\n",
       "      <td>ASP</td>\n",
       "      <td>DRIVER DISTRACTED</td>\n",
       "      <td>RAN OFF ROAD</td>\n",
       "      <td>7500SZIKESRDSMITHVILLERD</td>\n",
       "      <td>NONE</td>\n",
       "      <td>2016-06-16 19:28:00</td>\n",
       "      <td>2016</td>\n",
       "    </tr>\n",
       "  </tbody>\n",
       "</table>\n",
       "<p>4061 rows × 37 columns</p>\n",
       "</div>"
      ],
      "text/plain": [
       "      Agency         City  VEH#  Trailers  INJ  DEAD  DEER House#  \\\n",
       "2        BPD  BLOOMINGTON     2         0  0.0   0.0   0.0    709   \n",
       "14706   MCSD  BLOOMINGTON     2         0  1.0   0.0   0.0      0   \n",
       "14709   MCSD  BLOOMINGTON     1         0  0.0   0.0   1.0      0   \n",
       "14713   MCSD  BLOOMINGTON     1         0  0.0   0.0   0.0      0   \n",
       "14732   MCSD  BLOOMINGTON     1         0  1.0   0.0   1.0      0   \n",
       "...      ...          ...   ...       ...  ...   ...   ...    ...   \n",
       "7376     BPD  BLOOMINGTON     2         0  0.0   0.0   0.0      0   \n",
       "7377     BPD  BLOOMINGTON     2         0  0.0   0.0   0.0      0   \n",
       "7380     BPD  BLOOMINGTON     3         0  0.0   0.0   0.0      0   \n",
       "7334     BPD  BLOOMINGTON     1         0  1.0   0.0   0.0   1000   \n",
       "22409   MCSD  BLOOMINGTON     1         0  1.0   0.0   0.0   7500   \n",
       "\n",
       "        Roadway Id  Intersect Rd.  ...        Median Rd Junction  \\\n",
       "2           1ST ST              0  ...             0        None   \n",
       "14706         SR37      CROSSOVER  ...             0        None   \n",
       "14709         SR37      CROSSOVER  ...  BARRIER WALL        None   \n",
       "14713         SR37     DELLSVILLE  ...             0        None   \n",
       "14732         SR37     DILLMAN RD  ...          NONE        None   \n",
       "...            ...            ...  ...           ...         ...   \n",
       "7376   COLLEGE AVE   KIRKWOOD AVE  ...             0        None   \n",
       "7377   COLLEGE AVE   KIRKWOOD AVE  ...             0        None   \n",
       "7380   COLLEGE AVE   KIRKWOOD AVE  ...             0       4-Way   \n",
       "7334   COLLEGE AVE              0  ...             0        None   \n",
       "22409     ZIKES RD  SMITHVILLE RD  ...             0        None   \n",
       "\n",
       "               Road Char  Surface                 Primary Factor  \\\n",
       "2      NON-ROADWAY CRASH      ASP                 UNSAFE BACKING   \n",
       "14706     STRAIGHT/LEVEL      ASP          FOLLOWING TOO CLOSELY   \n",
       "14709     STRAIGHT/LEVEL      ASP       ANIMAL/OBJECT IN ROADWAY   \n",
       "14713        CURVE/LEVEL      ASP    OVERCORRECTING/OVERSTEERING   \n",
       "14732     STRAIGHT/LEVEL      ASP       ANIMAL/OBJECT IN ROADWAY   \n",
       "...                  ...      ...                            ...   \n",
       "7376      STRAIGHT/LEVEL      ASP          FOLLOWING TOO CLOSELY   \n",
       "7377      STRAIGHT/LEVEL      ASP                 UNSAFE BACKING   \n",
       "7380      STRAIGHT/LEVEL      ASP  FAILURE TO YIELD RIGHT OF WAY   \n",
       "7334      STRAIGHT/GRADE      ASP             RAN OFF ROAD RIGHT   \n",
       "22409     STRAIGHT/GRADE      ASP              DRIVER DISTRACTED   \n",
       "\n",
       "                           Collision Type                 Unique Id  \\\n",
       "2                           BACKING CRASH                    W1STST   \n",
       "14706                            REAR END         NCROSSOVERRDSR37N   \n",
       "14709  HEAD ON BETWEEN TWO MOTOR VEHICLES         NCROSSOVERRDSR37N   \n",
       "14713                        RAN OFF ROAD         DELLSVILLERDSR37S   \n",
       "14732  HEAD ON BETWEEN TWO MOTOR VEHICLES           SR37SWDILLMANRD   \n",
       "...                                   ...                       ...   \n",
       "7376                             REAR END     COLLEGEAVEKIRKWOODAVE   \n",
       "7377                        BACKING CRASH     COLLEGEAVEKIRKWOODAVE   \n",
       "7380             SAME DIRECTION SIDESWIPE     COLLEGEAVEKIRKWOODAVE   \n",
       "7334                         RAN OFF ROAD               NCOLLEGEAVE   \n",
       "22409                        RAN OFF ROAD  7500SZIKESRDSMITHVILLERD   \n",
       "\n",
       "              Traffic Control           DATE TIME  Year  \n",
       "2                        NONE 2016-01-04 14:06:00  2016  \n",
       "14706            LANE CONTROL 2016-10-15 19:39:00  2016  \n",
       "14709                    NONE 2016-11-12 00:17:00  2016  \n",
       "14713                    NONE 2016-02-22 23:25:00  2016  \n",
       "14732                    NONE 2016-07-17 02:58:00  2016  \n",
       "...                       ...                 ...   ...  \n",
       "7376             LANE CONTROL 2016-07-01 13:00:00  2016  \n",
       "7377             LANE CONTROL 2016-10-21 13:09:00  2016  \n",
       "7380   TRAFFIC CONTROL SIGNAL 2016-02-27 19:17:00  2016  \n",
       "7334                     NONE 2016-12-11 23:59:00  2016  \n",
       "22409                    NONE 2016-06-16 19:28:00  2016  \n",
       "\n",
       "[4061 rows x 37 columns]"
      ]
     },
     "execution_count": 254,
     "metadata": {},
     "output_type": "execute_result"
    }
   ],
   "source": [
    "clean_only_crashes.sort_values('Year')"
   ]
  },
  {
   "cell_type": "code",
   "execution_count": 255,
   "metadata": {},
   "outputs": [],
   "source": [
    "not2016=clean_only_crashes[clean_only_crashes['Year'] != 2016].index"
   ]
  },
  {
   "cell_type": "code",
   "execution_count": 256,
   "metadata": {},
   "outputs": [],
   "source": [
    "clean_only_crashes.drop(not2016, inplace=True)"
   ]
  },
  {
   "cell_type": "code",
   "execution_count": 261,
   "metadata": {},
   "outputs": [
    {
     "data": {
      "text/plain": [
       "<function matplotlib.pyplot.show(*args, **kw)>"
      ]
     },
     "execution_count": 261,
     "metadata": {},
     "output_type": "execute_result"
    },
    {
     "data": {
      "image/png": "[encoded data removed]",
      "text/plain": [
       "<Figure size 432x288 with 1 Axes>"
      ]
     },
     "metadata": {
      "needs_background": "light"
     },
     "output_type": "display_data"
    }
   ],
   "source": [
    "x=clean_only_crashes['DATE TIME']\n",
    "plt.hist(x, density=True)\n",
    "plt.show"
   ]
  },
  {
   "cell_type": "code",
   "execution_count": 258,
   "metadata": {},
   "outputs": [
    {
     "data": {
      "text/plain": [
       "<function matplotlib.pyplot.show(*args, **kw)>"
      ]
     },
     "execution_count": 258,
     "metadata": {},
     "output_type": "execute_result"
    },
    {
     "data": {
      "image/png": "[encoded data removed]",
      "text/plain": [
       "<Figure size 432x288 with 1 Axes>"
      ]
     },
     "metadata": {
      "needs_background": "light"
     },
     "output_type": "display_data"
    }
   ],
   "source": [
    "x=clean_only_crashes['Agency']\n",
    "plt.hist(x, density=True)\n",
    "plt.show"
   ]
  },
  {
   "cell_type": "code",
   "execution_count": 262,
   "metadata": {},
   "outputs": [
    {
     "data": {
      "text/plain": [
       "<function matplotlib.pyplot.show(*args, **kw)>"
      ]
     },
     "execution_count": 262,
     "metadata": {},
     "output_type": "execute_result"
    },
    {
     "data": {
      "image/png": "[encoded data removed]",
      "text/plain": [
       "<Figure size 432x288 with 1 Axes>"
      ]
     },
     "metadata": {
      "needs_background": "light"
     },
     "output_type": "display_data"
    }
   ],
   "source": [
    "x=clean_all_calls['Nature of Call for Service']\n",
    "plt.hist(x, density=True)\n",
    "plt.show"
   ]
  },
  {
   "cell_type": "code",
   "execution_count": null,
   "metadata": {},
   "outputs": [],
   "source": []
  }
 ],
 "metadata": {
  "kernelspec": {
   "display_name": "Python 3",
   "language": "python",
   "name": "python3"
  },
  "language_info": {
   "codemirror_mode": {
    "name": "ipython",
    "version": 3
   },
   "file_extension": ".py",
   "mimetype": "text/x-python",
   "name": "python",
   "nbconvert_exporter": "python",
   "pygments_lexer": "ipython3",
   "version": "3.7.7"
  }
 },
 "nbformat": 4,
 "nbformat_minor": 4
}
